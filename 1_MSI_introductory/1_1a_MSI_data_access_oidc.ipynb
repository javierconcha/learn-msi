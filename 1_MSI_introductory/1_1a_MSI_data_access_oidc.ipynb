{
 "cells": [
  {
   "cell_type": "markdown",
   "id": "84615810",
   "metadata": {},
   "source": [
    "# Downloading using OpenID Connect (OIDC)"
   ]
  },
  {
   "cell_type": "markdown",
   "id": "526ef7de",
   "metadata": {},
   "source": [
    "Requires a CDSE account"
   ]
  },
  {
   "cell_type": "markdown",
   "id": "af0582ac",
   "metadata": {},
   "source": [
    "### Credentials\n",
    "Username and password in a text file \"cdse_credentials.txt\" with the following structure:\n",
    "\n",
    "```username=your_cdse_username\n",
    "password=your_cdse_password```"
   ]
  },
  {
   "cell_type": "code",
   "execution_count": 10,
   "id": "fa6d84a0",
   "metadata": {},
   "outputs": [
    {
     "name": "stdout",
     "output_type": "stream",
     "text": [
      "Credentials loaded (username only shown): javieralonso.concha@esa.int\n"
     ]
    }
   ],
   "source": [
    "def read_cdse_credentials(filepath=\"cdse_credentials.txt\"):\n",
    "    creds = {}\n",
    "    with open(filepath, \"r\") as f:\n",
    "        for line in f:\n",
    "            key, value = line.strip().split(\"=\", 1)\n",
    "            creds[key.strip()] = value.strip()\n",
    "    return creds[\"username\"], creds[\"password\"]\n",
    "\n",
    "USERNAME, PASSWORD = read_cdse_credentials()\n",
    "\n",
    "print(\"Credentials loaded (username only shown):\", USERNAME)"
   ]
  },
  {
   "cell_type": "code",
   "execution_count": 11,
   "id": "a9a5c79e",
   "metadata": {},
   "outputs": [
    {
     "name": "stdout",
     "output_type": "stream",
     "text": [
      "Access token: eyJhbGciOiJSUzI1NiIsInR5cCIgOiAiSldUIiwia2lkIiA6ICJYVUh3VWZK...\n"
     ]
    }
   ],
   "source": [
    "import requests\n",
    "\n",
    "auth_url = \"https://identity.dataspace.copernicus.eu/auth/realms/CDSE/protocol/openid-connect/token\"\n",
    "\n",
    "data = {\n",
    "    \"client_id\": \"cdse-public\",   # default public client\n",
    "    \"grant_type\": \"password\",\n",
    "    \"username\": USERNAME,\n",
    "    \"password\": PASSWORD\n",
    "}\n",
    "\n",
    "response = requests.post(auth_url, data=data)\n",
    "token = response.json()[\"access_token\"]\n",
    "\n",
    "print(\"Access token:\", token[:60] + \"...\")\n"
   ]
  },
  {
   "cell_type": "code",
   "execution_count": 12,
   "id": "ddd73f9a",
   "metadata": {},
   "outputs": [
    {
     "name": "stdout",
     "output_type": "stream",
     "text": [
      "b48648ae-29f9-4491-acc4-32d9eaad21b0 S2B_MSIL1C_20250119T142709_N0511_R053_T21PVR_20250119T192320.SAFE\n",
      "3e7473f3-af16-4829-949f-209bf2adbe15 S2B_MSIL1C_20250101T000619_N0511_R073_T56NPG_20250101T010230.SAFE\n",
      "e351430b-38ea-4ea8-8d7a-a435f22480bd S2B_MSIL1C_20250101T000619_N0511_R073_T56NRG_20250101T010230.SAFE\n",
      "2467d219-a97c-4533-b616-cb27ad6945ef S2B_MSIL1C_20250101T000619_N0511_R073_T57NTB_20250101T010230.SAFE\n",
      "724ace31-18c3-4e52-b240-241173143c20 S2B_MSIL1C_20250101T000619_N0511_R073_T57NUA_20250101T010230.SAFE\n"
     ]
    }
   ],
   "source": [
    "catalog_url = \"https://catalogue.dataspace.copernicus.eu/odata/v1/Products\"\n",
    "headers = {\"Authorization\": f\"Bearer {token}\"}\n",
    "\n",
    "params = {\n",
    "    \"$filter\": (\n",
    "        \"Collection/Name eq 'SENTINEL-2' \"\n",
    "        \"and ContentDate/Start gt 2025-01-01T00:00:00.000Z \"\n",
    "        \"and ContentDate/Start lt 2025-01-31T23:59:59.999Z \"\n",
    "        \"and Attributes/OData.CSC.StringAttribute/any(a:a/Name eq 'productType' and a/Value eq 'S2MSI1C')\"\n",
    "    ),\n",
    "    \"$top\": 5\n",
    "}\n",
    "\n",
    "resp = requests.get(catalog_url, headers=headers, params=params)\n",
    "data = resp.json()[\"value\"]\n",
    "\n",
    "for p in data:\n",
    "    print(p[\"Id\"], p[\"Name\"])\n"
   ]
  },
  {
   "cell_type": "markdown",
   "id": "f8484df2",
   "metadata": {},
   "source": [
    "### Add a filter based on an ROI"
   ]
  },
  {
   "cell_type": "code",
   "execution_count": 13,
   "id": "598aa28b",
   "metadata": {},
   "outputs": [
    {
     "name": "stdout",
     "output_type": "stream",
     "text": [
      "e70a20f7-7c8e-485b-86a8-ac324fa6d66a S2B_MSIL1C_20250102T110349_N0511_R094_T31UDQ_20250102T143539.SAFE\n",
      "306150e6-5d9d-40dc-bfde-7fdb1abba1e2 S2A_MSIL1C_20250104T105441_N0511_R051_T31UDQ_20250104T125200.SAFE\n",
      "a4f5f471-eff8-4889-9b87-62015ad77384 S2B_MSIL1C_20250109T105329_N0511_R051_T31UDQ_20250109T124435.SAFE\n",
      "12263b7f-78e6-4ea3-bbea-23c53eee7a28 S2B_MSIL1C_20250112T110329_N0511_R094_T31UDQ_20250112T131948.SAFE\n",
      "c2698d12-939f-42d8-9e9e-8e42cc2c35a2 S2A_MSIL1C_20250114T105411_N0511_R051_T31UDQ_20250114T125009.SAFE\n"
     ]
    }
   ],
   "source": [
    "bbox = \"POLYGON((2.25 48.80, 2.25 48.90, 2.40 48.90, 2.40 48.80, 2.25 48.80))\"\n",
    "\n",
    "params[\"$filter\"] += f\" and OData.CSC.Intersects(area=geography'SRID=4326;{bbox}')\"\n",
    "\n",
    "resp = requests.get(catalog_url, headers=headers, params=params)\n",
    "data = resp.json()[\"value\"]\n",
    "\n",
    "for p in data:\n",
    "    print(p[\"Id\"], p[\"Name\"])"
   ]
  },
  {
   "cell_type": "code",
   "execution_count": 14,
   "id": "461e38b5",
   "metadata": {},
   "outputs": [
    {
     "name": "stdout",
     "output_type": "stream",
     "text": [
      "✅ Download complete: S2B_MSIL1C_20250102T110349_N0511_R094_T31UDQ_20250102T143539.SAFE.zip\n"
     ]
    }
   ],
   "source": [
    "product_id = data[0][\"Id\"]\n",
    "\n",
    "download_url = f\"https://zipper.dataspace.copernicus.eu/odata/v1/Products({product_id})/$value\"\n",
    "\n",
    "with requests.get(download_url, headers=headers, stream=True) as r:\n",
    "    r.raise_for_status()\n",
    "    with open(f\"./products/{data[0]['Name']}.zip\", \"wb\") as f:\n",
    "        for chunk in r.iter_content(chunk_size=8192):\n",
    "            f.write(chunk)\n",
    "\n",
    "print(\"✅ Download complete:\", data[0][\"Name\"] + \".zip\")\n"
   ]
  },
  {
   "cell_type": "code",
   "execution_count": null,
   "id": "96a81bdb",
   "metadata": {},
   "outputs": [],
   "source": []
  }
 ],
 "metadata": {
  "kernelspec": {
   "display_name": "Python 3 (ipykernel)",
   "language": "python",
   "name": "python3"
  },
  "language_info": {
   "codemirror_mode": {
    "name": "ipython",
    "version": 3
   },
   "file_extension": ".py",
   "mimetype": "text/x-python",
   "name": "python",
   "nbconvert_exporter": "python",
   "pygments_lexer": "ipython3",
   "version": "3.9.7"
  }
 },
 "nbformat": 4,
 "nbformat_minor": 5
}
