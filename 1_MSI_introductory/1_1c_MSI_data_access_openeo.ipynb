{
 "cells": [
  {
   "cell_type": "markdown",
   "id": "681a24af",
   "metadata": {},
   "source": [
    "# Downloading using openeo\n",
    "NOT for downloading SAFE archive\n",
    "## Install openeo"
   ]
  },
  {
   "cell_type": "markdown",
   "id": "dfd1f938",
   "metadata": {},
   "source": [
    "<code>$ pip install openeo </code>"
   ]
  },
  {
   "cell_type": "code",
   "execution_count": 3,
   "id": "602dd86f",
   "metadata": {},
   "outputs": [
    {
     "name": "stdout",
     "output_type": "stream",
     "text": [
      "Authenticated using refresh token.\n"
     ]
    }
   ],
   "source": [
    "import openeo\n",
    "conn = openeo.connect(\"openeo.dataspace.copernicus.eu\").authenticate_oidc()"
   ]
  },
  {
   "cell_type": "code",
   "execution_count": null,
   "id": "a0ea009f",
   "metadata": {},
   "outputs": [],
   "source": []
  }
 ],
 "metadata": {
  "kernelspec": {
   "display_name": "Python 3 (ipykernel)",
   "language": "python",
   "name": "python3"
  },
  "language_info": {
   "codemirror_mode": {
    "name": "ipython",
    "version": 3
   },
   "file_extension": ".py",
   "mimetype": "text/x-python",
   "name": "python",
   "nbconvert_exporter": "python",
   "pygments_lexer": "ipython3",
   "version": "3.9.7"
  }
 },
 "nbformat": 4,
 "nbformat_minor": 5
}
