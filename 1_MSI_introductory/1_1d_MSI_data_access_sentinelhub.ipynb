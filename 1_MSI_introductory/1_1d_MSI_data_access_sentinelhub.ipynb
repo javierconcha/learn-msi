{
 "cells": [
  {
   "cell_type": "markdown",
   "id": "5da4d859",
   "metadata": {},
   "source": [
    "# Download using sentinelhub"
   ]
  },
  {
   "cell_type": "markdown",
   "id": "7e4fc718",
   "metadata": {},
   "source": [
    "An sentinelhub account is needed (it is not the same as the CDSE account!)"
   ]
  },
  {
   "cell_type": "markdown",
   "id": "1e23cd80",
   "metadata": {},
   "source": [
    "### Installation"
   ]
  },
  {
   "cell_type": "markdown",
   "id": "ec08cf49",
   "metadata": {},
   "source": [
    "```$ pip install sentinelhub\n",
    "$ pip install utils```"
   ]
  },
  {
   "cell_type": "markdown",
   "id": "223b5954",
   "metadata": {},
   "source": [
    "### Prerequisites"
   ]
  },
  {
   "cell_type": "code",
   "execution_count": 2,
   "id": "4afdf153",
   "metadata": {},
   "outputs": [],
   "source": [
    "# Utilities\n",
    "import os\n",
    "import datetime\n",
    "import numpy as np\n",
    "import matplotlib.pyplot as plt\n",
    "import pandas as pd\n",
    "import requests\n",
    "import getpass\n",
    "\n",
    "from sentinelhub import (\n",
    "    SHConfig,\n",
    "    DataCollection,\n",
    "    SentinelHubCatalog,\n",
    "    SentinelHubRequest,\n",
    "    BBox,\n",
    "    bbox_to_dimensions,\n",
    "    CRS,\n",
    "    MimeType,\n",
    "    Geometry,\n",
    ")\n",
    "\n",
    "def plot_image(image, factor=1.0, clip_range=None, **kwargs):\n",
    "    \"\"\"\n",
    "    Utility function for plotting RGB images.\n",
    "    \"\"\"\n",
    "    fig, ax = plt.subplots(nrows=1, ncols=1, figsize=(15, 15))\n",
    "    if clip_range is not None:\n",
    "        ax.imshow(np.clip(image * factor, *clip_range), **kwargs)\n",
    "    else:\n",
    "        ax.imshow(image * factor, **kwargs)\n",
    "    ax.set_xticks([])\n",
    "    ax.set_yticks([])"
   ]
  },
  {
   "cell_type": "markdown",
   "id": "17cabaa0",
   "metadata": {},
   "source": [
    "### Setting search parameters"
   ]
  },
  {
   "cell_type": "code",
   "execution_count": 3,
   "id": "e58a919a",
   "metadata": {},
   "outputs": [],
   "source": [
    "start_date = \"2022-06-01\"\n",
    "end_date = \"2022-06-10\"\n",
    "data_collection = \"SENTINEL-2\"\n",
    "aoi = \"POLYGON((4.220581 50.958859,4.521264 50.953236,4.545977 50.906064,4.541858 50.802029,4.489685 50.763825,4.23843 50.767734,4.192435 50.806369,4.189689 50.907363,4.220581 50.958859))'\""
   ]
  },
  {
   "cell_type": "code",
   "execution_count": 4,
   "id": "d6c231e0",
   "metadata": {},
   "outputs": [
    {
     "data": {
      "text/html": [
       "<div>\n",
       "<style scoped>\n",
       "    .dataframe tbody tr th:only-of-type {\n",
       "        vertical-align: middle;\n",
       "    }\n",
       "\n",
       "    .dataframe tbody tr th {\n",
       "        vertical-align: top;\n",
       "    }\n",
       "\n",
       "    .dataframe thead th {\n",
       "        text-align: right;\n",
       "    }\n",
       "</style>\n",
       "<table border=\"1\" class=\"dataframe\">\n",
       "  <thead>\n",
       "    <tr style=\"text-align: right;\">\n",
       "      <th></th>\n",
       "      <th>@odata.mediaContentType</th>\n",
       "      <th>Id</th>\n",
       "      <th>Name</th>\n",
       "      <th>ContentType</th>\n",
       "      <th>ContentLength</th>\n",
       "      <th>OriginDate</th>\n",
       "      <th>PublicationDate</th>\n",
       "      <th>ModificationDate</th>\n",
       "      <th>Online</th>\n",
       "      <th>EvictionDate</th>\n",
       "      <th>S3Path</th>\n",
       "      <th>Checksum</th>\n",
       "      <th>ContentDate</th>\n",
       "      <th>Footprint</th>\n",
       "      <th>GeoFootprint</th>\n",
       "    </tr>\n",
       "  </thead>\n",
       "  <tbody>\n",
       "    <tr>\n",
       "      <th>0</th>\n",
       "      <td>application/octet-stream</td>\n",
       "      <td>3dd25b31-c251-4bc8-acad-1ae00406042d</td>\n",
       "      <td>S2A_MSIL1C_20220606T103631_N0510_R008_T31UES_2...</td>\n",
       "      <td>application/octet-stream</td>\n",
       "      <td>163213055</td>\n",
       "      <td>2024-12-13T17:48:11.031000Z</td>\n",
       "      <td>2025-01-04T04:17:38.361047Z</td>\n",
       "      <td>2025-01-04T04:17:42.974578Z</td>\n",
       "      <td>True</td>\n",
       "      <td>9999-12-31T23:59:59.999999Z</td>\n",
       "      <td>/eodata/Sentinel-2/MSI/L1C_N0500/2022/06/06/S2...</td>\n",
       "      <td>[{'Value': '683a7b2b2cdc92f2d3ef99a5dddcabf8',...</td>\n",
       "      <td>{'Start': '2022-06-06T10:36:31.024000Z', 'End'...</td>\n",
       "      <td>geography'SRID=4326;POLYGON ((4.07401134861950...</td>\n",
       "      <td>{'type': 'Polygon', 'coordinates': [[[4.074011...</td>\n",
       "    </tr>\n",
       "    <tr>\n",
       "      <th>1</th>\n",
       "      <td>application/octet-stream</td>\n",
       "      <td>3d789bf8-dc7d-412a-92f8-9f9d062355c4</td>\n",
       "      <td>S2A_MSIL2A_20220606T103631_N0510_R008_T31UES_2...</td>\n",
       "      <td>application/octet-stream</td>\n",
       "      <td>209755204</td>\n",
       "      <td>2024-12-13T17:48:28.270000Z</td>\n",
       "      <td>2025-01-04T04:23:42.541013Z</td>\n",
       "      <td>2025-01-04T04:23:48.026044Z</td>\n",
       "      <td>True</td>\n",
       "      <td>9999-12-31T23:59:59.999999Z</td>\n",
       "      <td>/eodata/Sentinel-2/MSI/L2A_N0500/2022/06/06/S2...</td>\n",
       "      <td>[{'Value': '1183e1783a1cd68759edd7bfac926627',...</td>\n",
       "      <td>{'Start': '2022-06-06T10:36:31.024000Z', 'End'...</td>\n",
       "      <td>geography'SRID=4326;POLYGON ((4.07401134861950...</td>\n",
       "      <td>{'type': 'Polygon', 'coordinates': [[[4.074011...</td>\n",
       "    </tr>\n",
       "    <tr>\n",
       "      <th>2</th>\n",
       "      <td>application/octet-stream</td>\n",
       "      <td>653eed30-f64f-425d-92ed-01ac4a013be3</td>\n",
       "      <td>S2B_MSIL1C_20220604T104619_N0510_R051_T31UES_2...</td>\n",
       "      <td>application/octet-stream</td>\n",
       "      <td>858137780</td>\n",
       "      <td>2025-02-13T19:45:00.129000Z</td>\n",
       "      <td>2025-03-08T03:40:41.197573Z</td>\n",
       "      <td>2025-03-08T03:40:41.197573Z</td>\n",
       "      <td>True</td>\n",
       "      <td>9999-12-31T23:59:59.999999Z</td>\n",
       "      <td>/eodata/Sentinel-2/MSI/L1C_N0500/2022/06/04/S2...</td>\n",
       "      <td>[{'Value': '6f436f81b5bba012b80f3383ea13eeac',...</td>\n",
       "      <td>{'Start': '2022-06-04T10:46:19.024000Z', 'End'...</td>\n",
       "      <td>geography'SRID=4326;POLYGON ((2.99971217585130...</td>\n",
       "      <td>{'type': 'Polygon', 'coordinates': [[[2.999712...</td>\n",
       "    </tr>\n",
       "    <tr>\n",
       "      <th>3</th>\n",
       "      <td>application/octet-stream</td>\n",
       "      <td>fa2184d9-d11c-4678-abf2-05f5d1ffe39a</td>\n",
       "      <td>S2B_MSIL2A_20220604T104619_N0510_R051_T31UES_2...</td>\n",
       "      <td>application/octet-stream</td>\n",
       "      <td>1208976422</td>\n",
       "      <td>2025-02-13T19:45:08.724000Z</td>\n",
       "      <td>2025-03-08T03:45:08.174368Z</td>\n",
       "      <td>2025-03-08T03:45:08.174368Z</td>\n",
       "      <td>True</td>\n",
       "      <td>9999-12-31T23:59:59.999999Z</td>\n",
       "      <td>/eodata/Sentinel-2/MSI/L2A_N0500/2022/06/04/S2...</td>\n",
       "      <td>[{'Value': 'dbb21b4ef845dfbd176e9ba49c4e9868',...</td>\n",
       "      <td>{'Start': '2022-06-04T10:46:19.024000Z', 'End'...</td>\n",
       "      <td>geography'SRID=4326;POLYGON ((2.99971217585130...</td>\n",
       "      <td>{'type': 'Polygon', 'coordinates': [[[2.999712...</td>\n",
       "    </tr>\n",
       "    <tr>\n",
       "      <th>4</th>\n",
       "      <td>application/octet-stream</td>\n",
       "      <td>77f4c6e1-8e77-4749-8236-f8941cd12c87</td>\n",
       "      <td>S2B_MSIL1C_20220601T103629_N0510_R008_T31UES_2...</td>\n",
       "      <td>application/octet-stream</td>\n",
       "      <td>187696287</td>\n",
       "      <td>2024-10-23T16:38:45.413000Z</td>\n",
       "      <td>2024-12-16T17:24:00.811596Z</td>\n",
       "      <td>2024-12-16T17:24:06.940133Z</td>\n",
       "      <td>True</td>\n",
       "      <td>9999-12-31T23:59:59.999999Z</td>\n",
       "      <td>/eodata/Sentinel-2/MSI/L1C_N0500/2022/06/01/S2...</td>\n",
       "      <td>[{'Value': '10e35e7f3c2cefa4a418c1c8b5998d45',...</td>\n",
       "      <td>{'Start': '2022-06-01T10:36:29.024000Z', 'End'...</td>\n",
       "      <td>geography'SRID=4326;POLYGON ((4.07166873560485...</td>\n",
       "      <td>{'type': 'Polygon', 'coordinates': [[[4.071668...</td>\n",
       "    </tr>\n",
       "  </tbody>\n",
       "</table>\n",
       "</div>"
      ],
      "text/plain": [
       "    @odata.mediaContentType                                    Id  \\\n",
       "0  application/octet-stream  3dd25b31-c251-4bc8-acad-1ae00406042d   \n",
       "1  application/octet-stream  3d789bf8-dc7d-412a-92f8-9f9d062355c4   \n",
       "2  application/octet-stream  653eed30-f64f-425d-92ed-01ac4a013be3   \n",
       "3  application/octet-stream  fa2184d9-d11c-4678-abf2-05f5d1ffe39a   \n",
       "4  application/octet-stream  77f4c6e1-8e77-4749-8236-f8941cd12c87   \n",
       "\n",
       "                                                Name  \\\n",
       "0  S2A_MSIL1C_20220606T103631_N0510_R008_T31UES_2...   \n",
       "1  S2A_MSIL2A_20220606T103631_N0510_R008_T31UES_2...   \n",
       "2  S2B_MSIL1C_20220604T104619_N0510_R051_T31UES_2...   \n",
       "3  S2B_MSIL2A_20220604T104619_N0510_R051_T31UES_2...   \n",
       "4  S2B_MSIL1C_20220601T103629_N0510_R008_T31UES_2...   \n",
       "\n",
       "                ContentType  ContentLength                   OriginDate  \\\n",
       "0  application/octet-stream      163213055  2024-12-13T17:48:11.031000Z   \n",
       "1  application/octet-stream      209755204  2024-12-13T17:48:28.270000Z   \n",
       "2  application/octet-stream      858137780  2025-02-13T19:45:00.129000Z   \n",
       "3  application/octet-stream     1208976422  2025-02-13T19:45:08.724000Z   \n",
       "4  application/octet-stream      187696287  2024-10-23T16:38:45.413000Z   \n",
       "\n",
       "               PublicationDate             ModificationDate  Online  \\\n",
       "0  2025-01-04T04:17:38.361047Z  2025-01-04T04:17:42.974578Z    True   \n",
       "1  2025-01-04T04:23:42.541013Z  2025-01-04T04:23:48.026044Z    True   \n",
       "2  2025-03-08T03:40:41.197573Z  2025-03-08T03:40:41.197573Z    True   \n",
       "3  2025-03-08T03:45:08.174368Z  2025-03-08T03:45:08.174368Z    True   \n",
       "4  2024-12-16T17:24:00.811596Z  2024-12-16T17:24:06.940133Z    True   \n",
       "\n",
       "                  EvictionDate  \\\n",
       "0  9999-12-31T23:59:59.999999Z   \n",
       "1  9999-12-31T23:59:59.999999Z   \n",
       "2  9999-12-31T23:59:59.999999Z   \n",
       "3  9999-12-31T23:59:59.999999Z   \n",
       "4  9999-12-31T23:59:59.999999Z   \n",
       "\n",
       "                                              S3Path  \\\n",
       "0  /eodata/Sentinel-2/MSI/L1C_N0500/2022/06/06/S2...   \n",
       "1  /eodata/Sentinel-2/MSI/L2A_N0500/2022/06/06/S2...   \n",
       "2  /eodata/Sentinel-2/MSI/L1C_N0500/2022/06/04/S2...   \n",
       "3  /eodata/Sentinel-2/MSI/L2A_N0500/2022/06/04/S2...   \n",
       "4  /eodata/Sentinel-2/MSI/L1C_N0500/2022/06/01/S2...   \n",
       "\n",
       "                                            Checksum  \\\n",
       "0  [{'Value': '683a7b2b2cdc92f2d3ef99a5dddcabf8',...   \n",
       "1  [{'Value': '1183e1783a1cd68759edd7bfac926627',...   \n",
       "2  [{'Value': '6f436f81b5bba012b80f3383ea13eeac',...   \n",
       "3  [{'Value': 'dbb21b4ef845dfbd176e9ba49c4e9868',...   \n",
       "4  [{'Value': '10e35e7f3c2cefa4a418c1c8b5998d45',...   \n",
       "\n",
       "                                         ContentDate  \\\n",
       "0  {'Start': '2022-06-06T10:36:31.024000Z', 'End'...   \n",
       "1  {'Start': '2022-06-06T10:36:31.024000Z', 'End'...   \n",
       "2  {'Start': '2022-06-04T10:46:19.024000Z', 'End'...   \n",
       "3  {'Start': '2022-06-04T10:46:19.024000Z', 'End'...   \n",
       "4  {'Start': '2022-06-01T10:36:29.024000Z', 'End'...   \n",
       "\n",
       "                                           Footprint  \\\n",
       "0  geography'SRID=4326;POLYGON ((4.07401134861950...   \n",
       "1  geography'SRID=4326;POLYGON ((4.07401134861950...   \n",
       "2  geography'SRID=4326;POLYGON ((2.99971217585130...   \n",
       "3  geography'SRID=4326;POLYGON ((2.99971217585130...   \n",
       "4  geography'SRID=4326;POLYGON ((4.07166873560485...   \n",
       "\n",
       "                                        GeoFootprint  \n",
       "0  {'type': 'Polygon', 'coordinates': [[[4.074011...  \n",
       "1  {'type': 'Polygon', 'coordinates': [[[4.074011...  \n",
       "2  {'type': 'Polygon', 'coordinates': [[[2.999712...  \n",
       "3  {'type': 'Polygon', 'coordinates': [[[2.999712...  \n",
       "4  {'type': 'Polygon', 'coordinates': [[[4.071668...  "
      ]
     },
     "execution_count": 4,
     "metadata": {},
     "output_type": "execute_result"
    }
   ],
   "source": [
    "json = requests.get(\n",
    "    f\"https://catalogue.dataspace.copernicus.eu/odata/v1/Products?$filter=Collection/Name eq '{data_collection}' and OData.CSC.Intersects(area=geography'SRID=4326;{aoi}) and ContentDate/Start gt {start_date}T00:00:00.000Z and ContentDate/Start lt {end_date}T00:00:00.000Z\"\n",
    ").json()\n",
    "pd.DataFrame.from_dict(json[\"value\"]).head(5)"
   ]
  },
  {
   "cell_type": "code",
   "execution_count": 5,
   "id": "1ccd3908",
   "metadata": {},
   "outputs": [],
   "source": [
    "# Import credentials\n",
    "# from creds import *\n",
    "\n",
    "\n",
    "def get_access_token(username: str, password: str) -> str:\n",
    "    data = {\n",
    "        \"client_id\": \"cdse-public\",\n",
    "        \"username\": username,\n",
    "        \"password\": password,\n",
    "        \"grant_type\": \"password\",\n",
    "    }\n",
    "    try:\n",
    "        r = requests.post(\n",
    "            \"https://identity.dataspace.copernicus.eu/auth/realms/CDSE/protocol/openid-connect/token\",\n",
    "            data=data,\n",
    "        )\n",
    "        r.raise_for_status()\n",
    "    except Exception as e:\n",
    "        raise Exception(\n",
    "            f\"Access token creation failed. Reponse from the server was: {r.json()}\"\n",
    "        )\n",
    "    return r.json()[\"access_token\"]\n"
   ]
  },
  {
   "cell_type": "code",
   "execution_count": 8,
   "id": "36345cb7",
   "metadata": {},
   "outputs": [
    {
     "name": "stdout",
     "output_type": "stream",
     "text": [
      "Enter your username········\n",
      "Enter your password········\n"
     ]
    }
   ],
   "source": [
    "access_token = get_access_token(\n",
    "    getpass.getpass(\"Enter your username\"),\n",
    "    getpass.getpass(\"Enter your password\"),\n",
    ")"
   ]
  },
  {
   "cell_type": "code",
   "execution_count": 9,
   "id": "3b126c27",
   "metadata": {},
   "outputs": [],
   "source": [
    "url = f\"https://zipper.dataspace.copernicus.eu/odata/v1/Products(acdd7b9a-a5d4-5d10-9ac8-554623b8a0c9)/$value\"\n",
    "\n",
    "headers = {\"Authorization\": f\"Bearer {access_token}\"}\n",
    "\n",
    "session = requests.Session()\n",
    "session.headers.update(headers)\n",
    "response = session.get(url, headers=headers, stream=True)\n",
    "\n",
    "with open(\"product.zip\", \"wb\") as file:\n",
    "    for chunk in response.iter_content(chunk_size=8192):\n",
    "        if chunk:\n",
    "            file.write(chunk)\n",
    "            "
   ]
  },
  {
   "cell_type": "code",
   "execution_count": 23,
   "id": "0d53e610",
   "metadata": {},
   "outputs": [
    {
     "name": "stdout",
     "output_type": "stream",
     "text": [
      "Enter your SentinelHub client id········\n",
      "Enter your SentinelHub client secret········\n"
     ]
    }
   ],
   "source": [
    "# Only run this cell if you have not created a configuration.\n",
    "\n",
    "config = SHConfig()\n",
    "config.sh_client_id = getpass.getpass(\"Enter your SentinelHub client id\")\n",
    "config.sh_client_secret = getpass.getpass(\"Enter your SentinelHub client secret\")\n",
    "config.sh_token_url = \"https://identity.dataspace.copernicus.eu/auth/realms/CDSE/protocol/openid-connect/token\"\n",
    "config.sh_base_url = \"https://sh.dataspace.copernicus.eu\"\n",
    "config.save(\"cdse\")"
   ]
  },
  {
   "cell_type": "code",
   "execution_count": 25,
   "id": "1cfe8fef",
   "metadata": {},
   "outputs": [],
   "source": [
    "config = SHConfig(\"cdse\")"
   ]
  },
  {
   "cell_type": "code",
   "execution_count": 26,
   "id": "0a977bb0",
   "metadata": {},
   "outputs": [],
   "source": [
    "aoi_coords_wgs84 = [4.20762, 50.764694, 4.487708, 50.916455]"
   ]
  },
  {
   "cell_type": "code",
   "execution_count": 27,
   "id": "7838cf17",
   "metadata": {},
   "outputs": [
    {
     "name": "stdout",
     "output_type": "stream",
     "text": [
      "Image shape at 10 m resolution: (1941, 1723) pixels\n"
     ]
    }
   ],
   "source": [
    "resolution = 10\n",
    "aoi_bbox = BBox(bbox=aoi_coords_wgs84, crs=CRS.WGS84)\n",
    "aoi_size = bbox_to_dimensions(aoi_bbox, resolution=resolution)\n",
    "\n",
    "print(f\"Image shape at {resolution} m resolution: {aoi_size} pixels\")"
   ]
  },
  {
   "cell_type": "code",
   "execution_count": 28,
   "id": "228f438c",
   "metadata": {},
   "outputs": [],
   "source": [
    "catalog = SentinelHubCatalog(config=config)"
   ]
  },
  {
   "cell_type": "code",
   "execution_count": 29,
   "id": "5a6fa632",
   "metadata": {},
   "outputs": [
    {
     "ename": "InvalidClientError",
     "evalue": "(invalid_client) Invalid client or Invalid client credentials",
     "output_type": "error",
     "traceback": [
      "\u001b[1;31m---------------------------------------------------------------------------\u001b[0m",
      "\u001b[1;31mInvalidClientError\u001b[0m                        Traceback (most recent call last)",
      "Cell \u001b[1;32mIn[29], line 11\u001b[0m\n\u001b[0;32m      2\u001b[0m time_interval \u001b[38;5;241m=\u001b[39m \u001b[38;5;124m\"\u001b[39m\u001b[38;5;124m2022-07-01\u001b[39m\u001b[38;5;124m\"\u001b[39m, \u001b[38;5;124m\"\u001b[39m\u001b[38;5;124m2022-07-20\u001b[39m\u001b[38;5;124m\"\u001b[39m\n\u001b[0;32m      4\u001b[0m search_iterator \u001b[38;5;241m=\u001b[39m catalog\u001b[38;5;241m.\u001b[39msearch(\n\u001b[0;32m      5\u001b[0m     DataCollection\u001b[38;5;241m.\u001b[39mSENTINEL2_L2A,\n\u001b[0;32m      6\u001b[0m     bbox\u001b[38;5;241m=\u001b[39maoi_bbox,\n\u001b[0;32m      7\u001b[0m     time\u001b[38;5;241m=\u001b[39mtime_interval,\n\u001b[0;32m      8\u001b[0m     fields\u001b[38;5;241m=\u001b[39m{\u001b[38;5;124m\"\u001b[39m\u001b[38;5;124minclude\u001b[39m\u001b[38;5;124m\"\u001b[39m: [\u001b[38;5;124m\"\u001b[39m\u001b[38;5;124mid\u001b[39m\u001b[38;5;124m\"\u001b[39m, \u001b[38;5;124m\"\u001b[39m\u001b[38;5;124mproperties.datetime\u001b[39m\u001b[38;5;124m\"\u001b[39m], \u001b[38;5;124m\"\u001b[39m\u001b[38;5;124mexclude\u001b[39m\u001b[38;5;124m\"\u001b[39m: []},\n\u001b[0;32m      9\u001b[0m )\n\u001b[1;32m---> 11\u001b[0m results \u001b[38;5;241m=\u001b[39m \u001b[38;5;28;43mlist\u001b[39;49m\u001b[43m(\u001b[49m\u001b[43msearch_iterator\u001b[49m\u001b[43m)\u001b[49m\n\u001b[0;32m     12\u001b[0m \u001b[38;5;28mprint\u001b[39m(\u001b[38;5;124m\"\u001b[39m\u001b[38;5;124mTotal number of results:\u001b[39m\u001b[38;5;124m\"\u001b[39m, \u001b[38;5;28mlen\u001b[39m(results))\n\u001b[0;32m     14\u001b[0m results\n",
      "File \u001b[1;32m~\\Anaconda3\\envs\\cmts_learn_olci\\lib\\site-packages\\sentinelhub\\base.py:277\u001b[0m, in \u001b[0;36mFeatureIterator.__next__\u001b[1;34m(self)\u001b[0m\n\u001b[0;32m    272\u001b[0m \u001b[38;5;250m\u001b[39m\u001b[38;5;124;03m\"\"\"Method called to provide the next feature in iteration\u001b[39;00m\n\u001b[0;32m    273\u001b[0m \n\u001b[0;32m    274\u001b[0m \u001b[38;5;124;03m:return: the next feature\u001b[39;00m\n\u001b[0;32m    275\u001b[0m \u001b[38;5;124;03m\"\"\"\u001b[39;00m\n\u001b[0;32m    276\u001b[0m \u001b[38;5;28;01mwhile\u001b[39;00m \u001b[38;5;28mself\u001b[39m\u001b[38;5;241m.\u001b[39mindex \u001b[38;5;241m>\u001b[39m\u001b[38;5;241m=\u001b[39m \u001b[38;5;28mlen\u001b[39m(\u001b[38;5;28mself\u001b[39m\u001b[38;5;241m.\u001b[39mfeatures) \u001b[38;5;129;01mand\u001b[39;00m \u001b[38;5;129;01mnot\u001b[39;00m \u001b[38;5;28mself\u001b[39m\u001b[38;5;241m.\u001b[39mfinished:\n\u001b[1;32m--> 277\u001b[0m     new_features \u001b[38;5;241m=\u001b[39m \u001b[38;5;28;43mself\u001b[39;49m\u001b[38;5;241;43m.\u001b[39;49m\u001b[43m_fetch_features\u001b[49m\u001b[43m(\u001b[49m\u001b[43m)\u001b[49m\n\u001b[0;32m    278\u001b[0m     \u001b[38;5;28mself\u001b[39m\u001b[38;5;241m.\u001b[39mfeatures\u001b[38;5;241m.\u001b[39mextend(new_features)\n\u001b[0;32m    280\u001b[0m \u001b[38;5;28;01mif\u001b[39;00m \u001b[38;5;28mself\u001b[39m\u001b[38;5;241m.\u001b[39mindex \u001b[38;5;241m<\u001b[39m \u001b[38;5;28mlen\u001b[39m(\u001b[38;5;28mself\u001b[39m\u001b[38;5;241m.\u001b[39mfeatures):\n",
      "File \u001b[1;32m~\\Anaconda3\\envs\\cmts_learn_olci\\lib\\site-packages\\sentinelhub\\api\\catalog.py:245\u001b[0m, in \u001b[0;36mCatalogSearchIterator._fetch_features\u001b[1;34m(self)\u001b[0m\n\u001b[0;32m    242\u001b[0m \u001b[38;5;250m\u001b[39m\u001b[38;5;124;03m\"\"\"Collects more results from the service\"\"\"\u001b[39;00m\n\u001b[0;32m    243\u001b[0m payload \u001b[38;5;241m=\u001b[39m remove_undefined({\u001b[38;5;241m*\u001b[39m\u001b[38;5;241m*\u001b[39m\u001b[38;5;28mself\u001b[39m\u001b[38;5;241m.\u001b[39mparams, \u001b[38;5;124m\"\u001b[39m\u001b[38;5;124mnext\u001b[39m\u001b[38;5;124m\"\u001b[39m: \u001b[38;5;28mself\u001b[39m\u001b[38;5;241m.\u001b[39mnext})\n\u001b[1;32m--> 245\u001b[0m results \u001b[38;5;241m=\u001b[39m \u001b[38;5;28;43mself\u001b[39;49m\u001b[38;5;241;43m.\u001b[39;49m\u001b[43mclient\u001b[49m\u001b[38;5;241;43m.\u001b[39;49m\u001b[43mget_json_dict\u001b[49m\u001b[43m(\u001b[49m\u001b[38;5;28;43mself\u001b[39;49m\u001b[38;5;241;43m.\u001b[39;49m\u001b[43murl\u001b[49m\u001b[43m,\u001b[49m\u001b[43m \u001b[49m\u001b[43mpost_values\u001b[49m\u001b[38;5;241;43m=\u001b[39;49m\u001b[43mpayload\u001b[49m\u001b[43m,\u001b[49m\u001b[43m \u001b[49m\u001b[43muse_session\u001b[49m\u001b[38;5;241;43m=\u001b[39;49m\u001b[38;5;28;43;01mTrue\u001b[39;49;00m\u001b[43m)\u001b[49m\n\u001b[0;32m    247\u001b[0m \u001b[38;5;28mself\u001b[39m\u001b[38;5;241m.\u001b[39mnext \u001b[38;5;241m=\u001b[39m results[\u001b[38;5;124m\"\u001b[39m\u001b[38;5;124mcontext\u001b[39m\u001b[38;5;124m\"\u001b[39m]\u001b[38;5;241m.\u001b[39mget(\u001b[38;5;124m\"\u001b[39m\u001b[38;5;124mnext\u001b[39m\u001b[38;5;124m\"\u001b[39m)\n\u001b[0;32m    248\u001b[0m new_features \u001b[38;5;241m=\u001b[39m results[\u001b[38;5;124m\"\u001b[39m\u001b[38;5;124mfeatures\u001b[39m\u001b[38;5;124m\"\u001b[39m]\n",
      "File \u001b[1;32m~\\Anaconda3\\envs\\cmts_learn_olci\\lib\\site-packages\\sentinelhub\\download\\client.py:248\u001b[0m, in \u001b[0;36mDownloadClient.get_json_dict\u001b[1;34m(self, url, extract_key, *args, **kwargs)\u001b[0m\n\u001b[0;32m    240\u001b[0m \u001b[38;5;28;01mdef\u001b[39;00m \u001b[38;5;21mget_json_dict\u001b[39m(\u001b[38;5;28mself\u001b[39m, url: \u001b[38;5;28mstr\u001b[39m, \u001b[38;5;241m*\u001b[39margs: Any, extract_key: \u001b[38;5;28mstr\u001b[39m \u001b[38;5;241m|\u001b[39m \u001b[38;5;28;01mNone\u001b[39;00m \u001b[38;5;241m=\u001b[39m \u001b[38;5;28;01mNone\u001b[39;00m, \u001b[38;5;241m*\u001b[39m\u001b[38;5;241m*\u001b[39mkwargs: Any) \u001b[38;5;241m-\u001b[39m\u001b[38;5;241m>\u001b[39m JsonDict:\n\u001b[0;32m    241\u001b[0m \u001b[38;5;250m    \u001b[39m\u001b[38;5;124;03m\"\"\"Download request as JSON data type, failing if the result is not a dictionary\u001b[39;00m\n\u001b[0;32m    242\u001b[0m \n\u001b[0;32m    243\u001b[0m \u001b[38;5;124;03m    For other parameters see `get_json` method.\u001b[39;00m\n\u001b[1;32m   (...)\u001b[0m\n\u001b[0;32m    246\u001b[0m \u001b[38;5;124;03m    :param extract_key: If provided, the field is automatically extracted, checked, and returned\u001b[39;00m\n\u001b[0;32m    247\u001b[0m \u001b[38;5;124;03m    \"\"\"\u001b[39;00m\n\u001b[1;32m--> 248\u001b[0m     response \u001b[38;5;241m=\u001b[39m \u001b[38;5;28mself\u001b[39m\u001b[38;5;241m.\u001b[39mget_json(url, \u001b[38;5;241m*\u001b[39margs, \u001b[38;5;241m*\u001b[39m\u001b[38;5;241m*\u001b[39mkwargs)\n\u001b[0;32m    250\u001b[0m     \u001b[38;5;28;01mif\u001b[39;00m \u001b[38;5;129;01mnot\u001b[39;00m \u001b[38;5;28misinstance\u001b[39m(response, \u001b[38;5;28mdict\u001b[39m):\n\u001b[0;32m    251\u001b[0m         \u001b[38;5;28;01mraise\u001b[39;00m MissingDataInRequestException(\n\u001b[0;32m    252\u001b[0m             \u001b[38;5;124mf\u001b[39m\u001b[38;5;124m\"\u001b[39m\u001b[38;5;124mResponse from \u001b[39m\u001b[38;5;132;01m{\u001b[39;00murl\u001b[38;5;132;01m}\u001b[39;00m\u001b[38;5;124m was expected to be a dictionary, but got \u001b[39m\u001b[38;5;132;01m{\u001b[39;00m\u001b[38;5;28mtype\u001b[39m(response)\u001b[38;5;132;01m}\u001b[39;00m\u001b[38;5;124m.\u001b[39m\u001b[38;5;124m\"\u001b[39m\n\u001b[0;32m    253\u001b[0m         )\n",
      "File \u001b[1;32m~\\Anaconda3\\envs\\cmts_learn_olci\\lib\\site-packages\\sentinelhub\\download\\client.py:238\u001b[0m, in \u001b[0;36mDownloadClient.get_json\u001b[1;34m(self, url, post_values, headers, request_type, **kwargs)\u001b[0m\n\u001b[0;32m    227\u001b[0m     json_headers \u001b[38;5;241m=\u001b[39m {\u001b[38;5;124m\"\u001b[39m\u001b[38;5;124mContent-Type\u001b[39m\u001b[38;5;124m\"\u001b[39m: MimeType\u001b[38;5;241m.\u001b[39mJSON\u001b[38;5;241m.\u001b[39mget_string(), \u001b[38;5;241m*\u001b[39m\u001b[38;5;241m*\u001b[39mjson_headers}\n\u001b[0;32m    229\u001b[0m request \u001b[38;5;241m=\u001b[39m DownloadRequest(\n\u001b[0;32m    230\u001b[0m     url\u001b[38;5;241m=\u001b[39murl,\n\u001b[0;32m    231\u001b[0m     headers\u001b[38;5;241m=\u001b[39mjson_headers,\n\u001b[1;32m   (...)\u001b[0m\n\u001b[0;32m    235\u001b[0m     \u001b[38;5;241m*\u001b[39m\u001b[38;5;241m*\u001b[39mkwargs,\n\u001b[0;32m    236\u001b[0m )\n\u001b[1;32m--> 238\u001b[0m \u001b[38;5;28;01mreturn\u001b[39;00m \u001b[38;5;28;43mself\u001b[39;49m\u001b[38;5;241;43m.\u001b[39;49m\u001b[43m_single_download_decoded\u001b[49m\u001b[43m(\u001b[49m\u001b[43mrequest\u001b[49m\u001b[43m)\u001b[49m\n",
      "File \u001b[1;32m~\\Anaconda3\\envs\\cmts_learn_olci\\lib\\site-packages\\sentinelhub\\download\\client.py:116\u001b[0m, in \u001b[0;36mDownloadClient._single_download_decoded\u001b[1;34m(self, request)\u001b[0m\n\u001b[0;32m    114\u001b[0m \u001b[38;5;28;01mdef\u001b[39;00m \u001b[38;5;21m_single_download_decoded\u001b[39m(\u001b[38;5;28mself\u001b[39m, request: DownloadRequest) \u001b[38;5;241m-\u001b[39m\u001b[38;5;241m>\u001b[39m Any:\n\u001b[0;32m    115\u001b[0m \u001b[38;5;250m    \u001b[39m\u001b[38;5;124;03m\"\"\"Downloads a response and decodes it into data. By decoding a single response\"\"\"\u001b[39;00m\n\u001b[1;32m--> 116\u001b[0m     response \u001b[38;5;241m=\u001b[39m \u001b[38;5;28;43mself\u001b[39;49m\u001b[38;5;241;43m.\u001b[39;49m\u001b[43m_single_download\u001b[49m\u001b[43m(\u001b[49m\u001b[43mrequest\u001b[49m\u001b[43m)\u001b[49m\n\u001b[0;32m    117\u001b[0m     \u001b[38;5;28;01mreturn\u001b[39;00m \u001b[38;5;28;01mNone\u001b[39;00m \u001b[38;5;28;01mif\u001b[39;00m response \u001b[38;5;129;01mis\u001b[39;00m \u001b[38;5;28;01mNone\u001b[39;00m \u001b[38;5;28;01melse\u001b[39;00m response\u001b[38;5;241m.\u001b[39mdecode()\n",
      "File \u001b[1;32m~\\Anaconda3\\envs\\cmts_learn_olci\\lib\\site-packages\\sentinelhub\\download\\client.py:129\u001b[0m, in \u001b[0;36mDownloadClient._single_download\u001b[1;34m(self, request)\u001b[0m\n\u001b[0;32m    127\u001b[0m no_local_data \u001b[38;5;241m=\u001b[39m \u001b[38;5;28mself\u001b[39m\u001b[38;5;241m.\u001b[39mredownload \u001b[38;5;129;01mor\u001b[39;00m response_path \u001b[38;5;129;01mis\u001b[39;00m \u001b[38;5;28;01mNone\u001b[39;00m \u001b[38;5;129;01mor\u001b[39;00m \u001b[38;5;129;01mnot\u001b[39;00m os\u001b[38;5;241m.\u001b[39mpath\u001b[38;5;241m.\u001b[39mexists(response_path)\n\u001b[0;32m    128\u001b[0m \u001b[38;5;28;01mif\u001b[39;00m no_local_data:\n\u001b[1;32m--> 129\u001b[0m     response \u001b[38;5;241m=\u001b[39m \u001b[38;5;28;43mself\u001b[39;49m\u001b[38;5;241;43m.\u001b[39;49m\u001b[43m_execute_download\u001b[49m\u001b[43m(\u001b[49m\u001b[43mrequest\u001b[49m\u001b[43m)\u001b[49m\n\u001b[0;32m    130\u001b[0m \u001b[38;5;28;01melse\u001b[39;00m:\n\u001b[0;32m    131\u001b[0m     \u001b[38;5;28;01mif\u001b[39;00m \u001b[38;5;129;01mnot\u001b[39;00m request\u001b[38;5;241m.\u001b[39mreturn_data \u001b[38;5;129;01mor\u001b[39;00m response_path \u001b[38;5;129;01mis\u001b[39;00m \u001b[38;5;28;01mNone\u001b[39;00m:\n",
      "File \u001b[1;32m~\\Anaconda3\\envs\\cmts_learn_olci\\lib\\site-packages\\sentinelhub\\download\\handlers.py:67\u001b[0m, in \u001b[0;36mretry_temporary_errors.<locals>.new_download_func\u001b[1;34m(self, request)\u001b[0m\n\u001b[0;32m     65\u001b[0m \u001b[38;5;28;01mfor\u001b[39;00m attempt_idx \u001b[38;5;129;01min\u001b[39;00m \u001b[38;5;28mrange\u001b[39m(download_attempts):\n\u001b[0;32m     66\u001b[0m     \u001b[38;5;28;01mtry\u001b[39;00m:\n\u001b[1;32m---> 67\u001b[0m         \u001b[38;5;28;01mreturn\u001b[39;00m \u001b[43mdownload_func\u001b[49m\u001b[43m(\u001b[49m\u001b[38;5;28;43mself\u001b[39;49m\u001b[43m,\u001b[49m\u001b[43m \u001b[49m\u001b[43mrequest\u001b[49m\u001b[43m)\u001b[49m\n\u001b[0;32m     69\u001b[0m     \u001b[38;5;28;01mexcept\u001b[39;00m requests\u001b[38;5;241m.\u001b[39mRequestException \u001b[38;5;28;01mas\u001b[39;00m exception:  \u001b[38;5;66;03m# noqa: PERF203\u001b[39;00m\n\u001b[0;32m     70\u001b[0m         attempts_left \u001b[38;5;241m=\u001b[39m download_attempts \u001b[38;5;241m-\u001b[39m (attempt_idx \u001b[38;5;241m+\u001b[39m \u001b[38;5;241m1\u001b[39m)\n",
      "File \u001b[1;32m~\\Anaconda3\\envs\\cmts_learn_olci\\lib\\site-packages\\sentinelhub\\download\\handlers.py:40\u001b[0m, in \u001b[0;36mfail_user_errors.<locals>.new_download_func\u001b[1;34m(self, request)\u001b[0m\n\u001b[0;32m     37\u001b[0m \u001b[38;5;129m@functools\u001b[39m\u001b[38;5;241m.\u001b[39mwraps(download_func)\n\u001b[0;32m     38\u001b[0m \u001b[38;5;28;01mdef\u001b[39;00m \u001b[38;5;21mnew_download_func\u001b[39m(\u001b[38;5;28mself\u001b[39m: Self, request: DownloadRequest) \u001b[38;5;241m-\u001b[39m\u001b[38;5;241m>\u001b[39m T:\n\u001b[0;32m     39\u001b[0m     \u001b[38;5;28;01mtry\u001b[39;00m:\n\u001b[1;32m---> 40\u001b[0m         \u001b[38;5;28;01mreturn\u001b[39;00m \u001b[43mdownload_func\u001b[49m\u001b[43m(\u001b[49m\u001b[38;5;28;43mself\u001b[39;49m\u001b[43m,\u001b[49m\u001b[43m \u001b[49m\u001b[43mrequest\u001b[49m\u001b[43m)\u001b[49m\n\u001b[0;32m     41\u001b[0m     \u001b[38;5;28;01mexcept\u001b[39;00m requests\u001b[38;5;241m.\u001b[39mHTTPError \u001b[38;5;28;01mas\u001b[39;00m exception:\n\u001b[0;32m     42\u001b[0m         \u001b[38;5;28;01mif\u001b[39;00m (\n\u001b[0;32m     43\u001b[0m             exception\u001b[38;5;241m.\u001b[39mresponse\u001b[38;5;241m.\u001b[39mstatus_code \u001b[38;5;241m<\u001b[39m requests\u001b[38;5;241m.\u001b[39mstatus_codes\u001b[38;5;241m.\u001b[39mcodes\u001b[38;5;241m.\u001b[39mINTERNAL_SERVER_ERROR\n\u001b[0;32m     44\u001b[0m             \u001b[38;5;129;01mand\u001b[39;00m exception\u001b[38;5;241m.\u001b[39mresponse\u001b[38;5;241m.\u001b[39mstatus_code \u001b[38;5;241m!=\u001b[39m requests\u001b[38;5;241m.\u001b[39mstatus_codes\u001b[38;5;241m.\u001b[39mcodes\u001b[38;5;241m.\u001b[39mTOO_MANY_REQUESTS\n\u001b[0;32m     45\u001b[0m         ):\n",
      "File \u001b[1;32m~\\Anaconda3\\envs\\cmts_learn_olci\\lib\\site-packages\\sentinelhub\\download\\sentinelhub_client.py:90\u001b[0m, in \u001b[0;36mSentinelHubDownloadClient._execute_download\u001b[1;34m(self, request)\u001b[0m\n\u001b[0;32m     83\u001b[0m download_attempts \u001b[38;5;241m+\u001b[39m\u001b[38;5;241m=\u001b[39m \u001b[38;5;241m1\u001b[39m\n\u001b[0;32m     84\u001b[0m LOGGER\u001b[38;5;241m.\u001b[39mdebug(\n\u001b[0;32m     85\u001b[0m     \u001b[38;5;124m\"\u001b[39m\u001b[38;5;124mSending \u001b[39m\u001b[38;5;132;01m%s\u001b[39;00m\u001b[38;5;124m request to \u001b[39m\u001b[38;5;132;01m%s\u001b[39;00m\u001b[38;5;124m. Hash of sent request is \u001b[39m\u001b[38;5;132;01m%s\u001b[39;00m\u001b[38;5;124m\"\u001b[39m,\n\u001b[0;32m     86\u001b[0m     request\u001b[38;5;241m.\u001b[39mrequest_type\u001b[38;5;241m.\u001b[39mvalue,\n\u001b[0;32m     87\u001b[0m     request\u001b[38;5;241m.\u001b[39murl,\n\u001b[0;32m     88\u001b[0m     request\u001b[38;5;241m.\u001b[39mget_hashed_name(),\n\u001b[0;32m     89\u001b[0m )\n\u001b[1;32m---> 90\u001b[0m response \u001b[38;5;241m=\u001b[39m \u001b[38;5;28;43mself\u001b[39;49m\u001b[38;5;241;43m.\u001b[39;49m\u001b[43m_do_download\u001b[49m\u001b[43m(\u001b[49m\u001b[43mrequest\u001b[49m\u001b[43m)\u001b[49m\n\u001b[0;32m     92\u001b[0m \u001b[38;5;28;01mif\u001b[39;00m response\u001b[38;5;241m.\u001b[39mstatus_code \u001b[38;5;241m==\u001b[39m requests\u001b[38;5;241m.\u001b[39mstatus_codes\u001b[38;5;241m.\u001b[39mcodes\u001b[38;5;241m.\u001b[39mTOO_MANY_REQUESTS:\n\u001b[0;32m     93\u001b[0m     warnings\u001b[38;5;241m.\u001b[39mwarn(\u001b[38;5;124m\"\u001b[39m\u001b[38;5;124mDownload rate limit hit\u001b[39m\u001b[38;5;124m\"\u001b[39m, category\u001b[38;5;241m=\u001b[39mSHRateLimitWarning)\n",
      "File \u001b[1;32m~\\Anaconda3\\envs\\cmts_learn_olci\\lib\\site-packages\\sentinelhub\\download\\sentinelhub_client.py:125\u001b[0m, in \u001b[0;36mSentinelHubDownloadClient._do_download\u001b[1;34m(self, request)\u001b[0m\n\u001b[0;32m    118\u001b[0m \u001b[38;5;28;01mif\u001b[39;00m request\u001b[38;5;241m.\u001b[39murl \u001b[38;5;129;01mis\u001b[39;00m \u001b[38;5;28;01mNone\u001b[39;00m:\n\u001b[0;32m    119\u001b[0m     \u001b[38;5;28;01mraise\u001b[39;00m \u001b[38;5;167;01mValueError\u001b[39;00m(\u001b[38;5;124mf\u001b[39m\u001b[38;5;124m\"\u001b[39m\u001b[38;5;124mFaulty request \u001b[39m\u001b[38;5;132;01m{\u001b[39;00mrequest\u001b[38;5;132;01m}\u001b[39;00m\u001b[38;5;124m, no URL specified.\u001b[39m\u001b[38;5;124m\"\u001b[39m)\n\u001b[0;32m    121\u001b[0m \u001b[38;5;28;01mreturn\u001b[39;00m requests\u001b[38;5;241m.\u001b[39mrequest(\n\u001b[0;32m    122\u001b[0m     request\u001b[38;5;241m.\u001b[39mrequest_type\u001b[38;5;241m.\u001b[39mvalue,\n\u001b[0;32m    123\u001b[0m     url\u001b[38;5;241m=\u001b[39mrequest\u001b[38;5;241m.\u001b[39murl,\n\u001b[0;32m    124\u001b[0m     json\u001b[38;5;241m=\u001b[39mrequest\u001b[38;5;241m.\u001b[39mpost_values,\n\u001b[1;32m--> 125\u001b[0m     headers\u001b[38;5;241m=\u001b[39m\u001b[38;5;28;43mself\u001b[39;49m\u001b[38;5;241;43m.\u001b[39;49m\u001b[43m_prepare_headers\u001b[49m\u001b[43m(\u001b[49m\u001b[43mrequest\u001b[49m\u001b[43m)\u001b[49m,\n\u001b[0;32m    126\u001b[0m     timeout\u001b[38;5;241m=\u001b[39m\u001b[38;5;28mself\u001b[39m\u001b[38;5;241m.\u001b[39mconfig\u001b[38;5;241m.\u001b[39mdownload_timeout_seconds,\n\u001b[0;32m    127\u001b[0m )\n",
      "File \u001b[1;32m~\\Anaconda3\\envs\\cmts_learn_olci\\lib\\site-packages\\sentinelhub\\download\\sentinelhub_client.py:136\u001b[0m, in \u001b[0;36mSentinelHubDownloadClient._prepare_headers\u001b[1;34m(self, request)\u001b[0m\n\u001b[0;32m    134\u001b[0m session_headers: JsonDict \u001b[38;5;241m=\u001b[39m {}\n\u001b[0;32m    135\u001b[0m \u001b[38;5;28;01mif\u001b[39;00m request\u001b[38;5;241m.\u001b[39muse_session:\n\u001b[1;32m--> 136\u001b[0m     session_headers \u001b[38;5;241m=\u001b[39m \u001b[38;5;28;43mself\u001b[39;49m\u001b[38;5;241;43m.\u001b[39;49m\u001b[43m_execute_thread_safe\u001b[49m\u001b[43m(\u001b[49m\u001b[38;5;28;43mself\u001b[39;49m\u001b[38;5;241;43m.\u001b[39;49m\u001b[43m_get_session_headers\u001b[49m\u001b[43m)\u001b[49m\n\u001b[0;32m    138\u001b[0m \u001b[38;5;28;01mreturn\u001b[39;00m {\u001b[38;5;241m*\u001b[39m\u001b[38;5;241m*\u001b[39mSHConstants\u001b[38;5;241m.\u001b[39mHEADERS, \u001b[38;5;241m*\u001b[39m\u001b[38;5;241m*\u001b[39msession_headers, \u001b[38;5;241m*\u001b[39m\u001b[38;5;241m*\u001b[39mrequest\u001b[38;5;241m.\u001b[39mheaders}\n",
      "File \u001b[1;32m~\\Anaconda3\\envs\\cmts_learn_olci\\lib\\site-packages\\sentinelhub\\download\\sentinelhub_client.py:111\u001b[0m, in \u001b[0;36mSentinelHubDownloadClient._execute_thread_safe\u001b[1;34m(self, thread_unsafe_function, *args, **kwargs)\u001b[0m\n\u001b[0;32m    109\u001b[0m \u001b[38;5;250m\u001b[39m\u001b[38;5;124;03m\"\"\"Executes a function inside a thread lock and handles potential errors\"\"\"\u001b[39;00m\n\u001b[0;32m    110\u001b[0m \u001b[38;5;28;01mif\u001b[39;00m \u001b[38;5;28mself\u001b[39m\u001b[38;5;241m.\u001b[39mlock \u001b[38;5;129;01mis\u001b[39;00m \u001b[38;5;28;01mNone\u001b[39;00m:\n\u001b[1;32m--> 111\u001b[0m     \u001b[38;5;28;01mreturn\u001b[39;00m thread_unsafe_function(\u001b[38;5;241m*\u001b[39margs, \u001b[38;5;241m*\u001b[39m\u001b[38;5;241m*\u001b[39mkwargs)\n\u001b[0;32m    113\u001b[0m \u001b[38;5;28;01mwith\u001b[39;00m \u001b[38;5;28mself\u001b[39m\u001b[38;5;241m.\u001b[39mlock:\n\u001b[0;32m    114\u001b[0m     \u001b[38;5;28;01mreturn\u001b[39;00m thread_unsafe_function(\u001b[38;5;241m*\u001b[39margs, \u001b[38;5;241m*\u001b[39m\u001b[38;5;241m*\u001b[39mkwargs)\n",
      "File \u001b[1;32m~\\Anaconda3\\envs\\cmts_learn_olci\\lib\\site-packages\\sentinelhub\\download\\sentinelhub_client.py:146\u001b[0m, in \u001b[0;36mSentinelHubDownloadClient._get_session_headers\u001b[1;34m(self)\u001b[0m\n\u001b[0;32m    140\u001b[0m \u001b[38;5;28;01mdef\u001b[39;00m \u001b[38;5;21m_get_session_headers\u001b[39m(\u001b[38;5;28mself\u001b[39m) \u001b[38;5;241m-\u001b[39m\u001b[38;5;241m>\u001b[39m JsonDict:\n\u001b[0;32m    141\u001b[0m \u001b[38;5;250m    \u001b[39m\u001b[38;5;124;03m\"\"\"Provides up-to-date session headers\u001b[39;00m\n\u001b[0;32m    142\u001b[0m \n\u001b[0;32m    143\u001b[0m \u001b[38;5;124;03m    Note that calling session_headers property triggers update if session has expired therefore this has to be\u001b[39;00m\n\u001b[0;32m    144\u001b[0m \u001b[38;5;124;03m    called in a thread-safe way\u001b[39;00m\n\u001b[0;32m    145\u001b[0m \u001b[38;5;124;03m    \"\"\"\u001b[39;00m\n\u001b[1;32m--> 146\u001b[0m     \u001b[38;5;28;01mreturn\u001b[39;00m \u001b[38;5;28;43mself\u001b[39;49m\u001b[38;5;241;43m.\u001b[39;49m\u001b[43mget_session\u001b[49m\u001b[43m(\u001b[49m\u001b[43m)\u001b[49m\u001b[38;5;241m.\u001b[39msession_headers\n",
      "File \u001b[1;32m~\\Anaconda3\\envs\\cmts_learn_olci\\lib\\site-packages\\sentinelhub\\download\\sentinelhub_client.py:162\u001b[0m, in \u001b[0;36mSentinelHubDownloadClient.get_session\u001b[1;34m(self)\u001b[0m\n\u001b[0;32m    160\u001b[0m     session \u001b[38;5;241m=\u001b[39m SentinelHubDownloadClient\u001b[38;5;241m.\u001b[39m_CACHED_SESSIONS[SentinelHubDownloadClient\u001b[38;5;241m.\u001b[39m_UNIVERSAL_CACHE_KEY]\n\u001b[0;32m    161\u001b[0m \u001b[38;5;28;01melse\u001b[39;00m:\n\u001b[1;32m--> 162\u001b[0m     session \u001b[38;5;241m=\u001b[39m \u001b[43mSentinelHubSession\u001b[49m\u001b[43m(\u001b[49m\u001b[43mconfig\u001b[49m\u001b[38;5;241;43m=\u001b[39;49m\u001b[38;5;28;43mself\u001b[39;49m\u001b[38;5;241;43m.\u001b[39;49m\u001b[43mconfig\u001b[49m\u001b[43m)\u001b[49m\n\u001b[0;32m    163\u001b[0m     SentinelHubDownloadClient\u001b[38;5;241m.\u001b[39m_CACHED_SESSIONS[cache_key] \u001b[38;5;241m=\u001b[39m session\n\u001b[0;32m    165\u001b[0m \u001b[38;5;28;01mreturn\u001b[39;00m session\n",
      "File \u001b[1;32m~\\Anaconda3\\envs\\cmts_learn_olci\\lib\\site-packages\\sentinelhub\\download\\session.py:73\u001b[0m, in \u001b[0;36mSentinelHubSession.__init__\u001b[1;34m(self, config, refresh_before_expiry, _token)\u001b[0m\n\u001b[0;32m     66\u001b[0m \u001b[38;5;28;01mif\u001b[39;00m token_fetching_required \u001b[38;5;129;01mand\u001b[39;00m \u001b[38;5;129;01mnot\u001b[39;00m (\u001b[38;5;28mself\u001b[39m\u001b[38;5;241m.\u001b[39mconfig\u001b[38;5;241m.\u001b[39msh_client_id \u001b[38;5;129;01mand\u001b[39;00m \u001b[38;5;28mself\u001b[39m\u001b[38;5;241m.\u001b[39mconfig\u001b[38;5;241m.\u001b[39msh_client_secret):\n\u001b[0;32m     67\u001b[0m     \u001b[38;5;28;01mraise\u001b[39;00m \u001b[38;5;167;01mValueError\u001b[39;00m(\n\u001b[0;32m     68\u001b[0m         \u001b[38;5;124m\"\u001b[39m\u001b[38;5;124mConfiguration parameters \u001b[39m\u001b[38;5;124m'\u001b[39m\u001b[38;5;124msh_client_id\u001b[39m\u001b[38;5;124m'\u001b[39m\u001b[38;5;124m and \u001b[39m\u001b[38;5;124m'\u001b[39m\u001b[38;5;124msh_client_secret\u001b[39m\u001b[38;5;124m'\u001b[39m\u001b[38;5;124m have to be set in order \u001b[39m\u001b[38;5;124m\"\u001b[39m\n\u001b[0;32m     69\u001b[0m         \u001b[38;5;124m\"\u001b[39m\u001b[38;5;124mto authenticate with Sentinel Hub service. Check \u001b[39m\u001b[38;5;124m\"\u001b[39m\n\u001b[0;32m     70\u001b[0m         \u001b[38;5;124m\"\u001b[39m\u001b[38;5;124mhttps://sentinelhub-py.readthedocs.io/en/latest/configure.html for more info.\u001b[39m\u001b[38;5;124m\"\u001b[39m\n\u001b[0;32m     71\u001b[0m     )\n\u001b[1;32m---> 73\u001b[0m \u001b[38;5;28mself\u001b[39m\u001b[38;5;241m.\u001b[39m_token \u001b[38;5;241m=\u001b[39m \u001b[38;5;28;43mself\u001b[39;49m\u001b[38;5;241;43m.\u001b[39;49m\u001b[43m_collect_new_token\u001b[49m\u001b[43m(\u001b[49m\u001b[43m)\u001b[49m \u001b[38;5;28;01mif\u001b[39;00m _token \u001b[38;5;129;01mis\u001b[39;00m \u001b[38;5;28;01mNone\u001b[39;00m \u001b[38;5;28;01melse\u001b[39;00m _token\n",
      "File \u001b[1;32m~\\Anaconda3\\envs\\cmts_learn_olci\\lib\\site-packages\\sentinelhub\\download\\session.py:127\u001b[0m, in \u001b[0;36mSentinelHubSession._collect_new_token\u001b[1;34m(self)\u001b[0m\n\u001b[0;32m    121\u001b[0m \u001b[38;5;250m\u001b[39m\u001b[38;5;124;03m\"\"\"Creates a download request and fetches a token from the service.\u001b[39;00m\n\u001b[0;32m    122\u001b[0m \n\u001b[0;32m    123\u001b[0m \u001b[38;5;124;03mNote that the `DownloadRequest` object is created only because retry decorators of `_fetch_token` method\u001b[39;00m\n\u001b[0;32m    124\u001b[0m \u001b[38;5;124;03mrequire it.\u001b[39;00m\n\u001b[0;32m    125\u001b[0m \u001b[38;5;124;03m\"\"\"\u001b[39;00m\n\u001b[0;32m    126\u001b[0m request \u001b[38;5;241m=\u001b[39m DownloadRequest(url\u001b[38;5;241m=\u001b[39m\u001b[38;5;124mf\u001b[39m\u001b[38;5;124m\"\u001b[39m\u001b[38;5;132;01m{\u001b[39;00m\u001b[38;5;28mself\u001b[39m\u001b[38;5;241m.\u001b[39mconfig\u001b[38;5;241m.\u001b[39msh_token_url\u001b[38;5;132;01m}\u001b[39;00m\u001b[38;5;124m\"\u001b[39m)\n\u001b[1;32m--> 127\u001b[0m \u001b[38;5;28;01mreturn\u001b[39;00m \u001b[38;5;28;43mself\u001b[39;49m\u001b[38;5;241;43m.\u001b[39;49m\u001b[43m_fetch_token\u001b[49m\u001b[43m(\u001b[49m\u001b[43mrequest\u001b[49m\u001b[43m)\u001b[49m\n",
      "File \u001b[1;32m~\\Anaconda3\\envs\\cmts_learn_olci\\lib\\site-packages\\sentinelhub\\download\\handlers.py:67\u001b[0m, in \u001b[0;36mretry_temporary_errors.<locals>.new_download_func\u001b[1;34m(self, request)\u001b[0m\n\u001b[0;32m     65\u001b[0m \u001b[38;5;28;01mfor\u001b[39;00m attempt_idx \u001b[38;5;129;01min\u001b[39;00m \u001b[38;5;28mrange\u001b[39m(download_attempts):\n\u001b[0;32m     66\u001b[0m     \u001b[38;5;28;01mtry\u001b[39;00m:\n\u001b[1;32m---> 67\u001b[0m         \u001b[38;5;28;01mreturn\u001b[39;00m \u001b[43mdownload_func\u001b[49m\u001b[43m(\u001b[49m\u001b[38;5;28;43mself\u001b[39;49m\u001b[43m,\u001b[49m\u001b[43m \u001b[49m\u001b[43mrequest\u001b[49m\u001b[43m)\u001b[49m\n\u001b[0;32m     69\u001b[0m     \u001b[38;5;28;01mexcept\u001b[39;00m requests\u001b[38;5;241m.\u001b[39mRequestException \u001b[38;5;28;01mas\u001b[39;00m exception:  \u001b[38;5;66;03m# noqa: PERF203\u001b[39;00m\n\u001b[0;32m     70\u001b[0m         attempts_left \u001b[38;5;241m=\u001b[39m download_attempts \u001b[38;5;241m-\u001b[39m (attempt_idx \u001b[38;5;241m+\u001b[39m \u001b[38;5;241m1\u001b[39m)\n",
      "File \u001b[1;32m~\\Anaconda3\\envs\\cmts_learn_olci\\lib\\site-packages\\sentinelhub\\download\\handlers.py:40\u001b[0m, in \u001b[0;36mfail_user_errors.<locals>.new_download_func\u001b[1;34m(self, request)\u001b[0m\n\u001b[0;32m     37\u001b[0m \u001b[38;5;129m@functools\u001b[39m\u001b[38;5;241m.\u001b[39mwraps(download_func)\n\u001b[0;32m     38\u001b[0m \u001b[38;5;28;01mdef\u001b[39;00m \u001b[38;5;21mnew_download_func\u001b[39m(\u001b[38;5;28mself\u001b[39m: Self, request: DownloadRequest) \u001b[38;5;241m-\u001b[39m\u001b[38;5;241m>\u001b[39m T:\n\u001b[0;32m     39\u001b[0m     \u001b[38;5;28;01mtry\u001b[39;00m:\n\u001b[1;32m---> 40\u001b[0m         \u001b[38;5;28;01mreturn\u001b[39;00m \u001b[43mdownload_func\u001b[49m\u001b[43m(\u001b[49m\u001b[38;5;28;43mself\u001b[39;49m\u001b[43m,\u001b[49m\u001b[43m \u001b[49m\u001b[43mrequest\u001b[49m\u001b[43m)\u001b[49m\n\u001b[0;32m     41\u001b[0m     \u001b[38;5;28;01mexcept\u001b[39;00m requests\u001b[38;5;241m.\u001b[39mHTTPError \u001b[38;5;28;01mas\u001b[39;00m exception:\n\u001b[0;32m     42\u001b[0m         \u001b[38;5;28;01mif\u001b[39;00m (\n\u001b[0;32m     43\u001b[0m             exception\u001b[38;5;241m.\u001b[39mresponse\u001b[38;5;241m.\u001b[39mstatus_code \u001b[38;5;241m<\u001b[39m requests\u001b[38;5;241m.\u001b[39mstatus_codes\u001b[38;5;241m.\u001b[39mcodes\u001b[38;5;241m.\u001b[39mINTERNAL_SERVER_ERROR\n\u001b[0;32m     44\u001b[0m             \u001b[38;5;129;01mand\u001b[39;00m exception\u001b[38;5;241m.\u001b[39mresponse\u001b[38;5;241m.\u001b[39mstatus_code \u001b[38;5;241m!=\u001b[39m requests\u001b[38;5;241m.\u001b[39mstatus_codes\u001b[38;5;241m.\u001b[39mcodes\u001b[38;5;241m.\u001b[39mTOO_MANY_REQUESTS\n\u001b[0;32m     45\u001b[0m         ):\n",
      "File \u001b[1;32m~\\Anaconda3\\envs\\cmts_learn_olci\\lib\\site-packages\\sentinelhub\\download\\session.py:139\u001b[0m, in \u001b[0;36mSentinelHubSession._fetch_token\u001b[1;34m(self, request)\u001b[0m\n\u001b[0;32m    136\u001b[0m \u001b[38;5;28;01mwith\u001b[39;00m OAuth2Session(client\u001b[38;5;241m=\u001b[39moauth_client) \u001b[38;5;28;01mas\u001b[39;00m oauth_session:\n\u001b[0;32m    137\u001b[0m     oauth_session\u001b[38;5;241m.\u001b[39mregister_compliance_hook(\u001b[38;5;124m\"\u001b[39m\u001b[38;5;124maccess_token_response\u001b[39m\u001b[38;5;124m\"\u001b[39m, \u001b[38;5;28mself\u001b[39m\u001b[38;5;241m.\u001b[39m_compliance_hook)\n\u001b[1;32m--> 139\u001b[0m     \u001b[38;5;28;01mreturn\u001b[39;00m \u001b[43moauth_session\u001b[49m\u001b[38;5;241;43m.\u001b[39;49m\u001b[43mfetch_token\u001b[49m\u001b[43m(\u001b[49m\n\u001b[0;32m    140\u001b[0m \u001b[43m        \u001b[49m\u001b[43mtoken_url\u001b[49m\u001b[38;5;241;43m=\u001b[39;49m\u001b[43mrequest\u001b[49m\u001b[38;5;241;43m.\u001b[39;49m\u001b[43murl\u001b[49m\u001b[43m,\u001b[49m\n\u001b[0;32m    141\u001b[0m \u001b[43m        \u001b[49m\u001b[43mclient_id\u001b[49m\u001b[38;5;241;43m=\u001b[39;49m\u001b[38;5;28;43mself\u001b[39;49m\u001b[38;5;241;43m.\u001b[39;49m\u001b[43mconfig\u001b[49m\u001b[38;5;241;43m.\u001b[39;49m\u001b[43msh_client_id\u001b[49m\u001b[43m,\u001b[49m\n\u001b[0;32m    142\u001b[0m \u001b[43m        \u001b[49m\u001b[43mclient_secret\u001b[49m\u001b[38;5;241;43m=\u001b[39;49m\u001b[38;5;28;43mself\u001b[39;49m\u001b[38;5;241;43m.\u001b[39;49m\u001b[43mconfig\u001b[49m\u001b[38;5;241;43m.\u001b[39;49m\u001b[43msh_client_secret\u001b[49m\u001b[43m,\u001b[49m\n\u001b[0;32m    143\u001b[0m \u001b[43m        \u001b[49m\u001b[43mheaders\u001b[49m\u001b[38;5;241;43m=\u001b[39;49m\u001b[43m{\u001b[49m\u001b[38;5;241;43m*\u001b[39;49m\u001b[38;5;241;43m*\u001b[39;49m\u001b[38;5;28;43mself\u001b[39;49m\u001b[38;5;241;43m.\u001b[39;49m\u001b[43mDEFAULT_HEADERS\u001b[49m\u001b[43m,\u001b[49m\u001b[43m \u001b[49m\u001b[38;5;241;43m*\u001b[39;49m\u001b[38;5;241;43m*\u001b[39;49m\u001b[43mSHConstants\u001b[49m\u001b[38;5;241;43m.\u001b[39;49m\u001b[43mHEADERS\u001b[49m\u001b[43m}\u001b[49m\u001b[43m,\u001b[49m\n\u001b[0;32m    144\u001b[0m \u001b[43m        \u001b[49m\u001b[43minclude_client_id\u001b[49m\u001b[38;5;241;43m=\u001b[39;49m\u001b[38;5;28;43;01mTrue\u001b[39;49;00m\u001b[43m,\u001b[49m\n\u001b[0;32m    145\u001b[0m \u001b[43m    \u001b[49m\u001b[43m)\u001b[49m\n",
      "File \u001b[1;32m~\\Anaconda3\\envs\\cmts_learn_olci\\lib\\site-packages\\requests_oauthlib\\oauth2_session.py:406\u001b[0m, in \u001b[0;36mOAuth2Session.fetch_token\u001b[1;34m(self, token_url, code, authorization_response, body, auth, username, password, method, force_querystring, timeout, headers, verify, proxies, include_client_id, client_secret, cert, **kwargs)\u001b[0m\n\u001b[0;32m    403\u001b[0m     log\u001b[38;5;241m.\u001b[39mdebug(\u001b[38;5;124m\"\u001b[39m\u001b[38;5;124mInvoking hook \u001b[39m\u001b[38;5;132;01m%s\u001b[39;00m\u001b[38;5;124m.\u001b[39m\u001b[38;5;124m\"\u001b[39m, hook)\n\u001b[0;32m    404\u001b[0m     r \u001b[38;5;241m=\u001b[39m hook(r)\n\u001b[1;32m--> 406\u001b[0m \u001b[38;5;28;43mself\u001b[39;49m\u001b[38;5;241;43m.\u001b[39;49m\u001b[43m_client\u001b[49m\u001b[38;5;241;43m.\u001b[39;49m\u001b[43mparse_request_body_response\u001b[49m\u001b[43m(\u001b[49m\u001b[43mr\u001b[49m\u001b[38;5;241;43m.\u001b[39;49m\u001b[43mtext\u001b[49m\u001b[43m,\u001b[49m\u001b[43m \u001b[49m\u001b[43mscope\u001b[49m\u001b[38;5;241;43m=\u001b[39;49m\u001b[38;5;28;43mself\u001b[39;49m\u001b[38;5;241;43m.\u001b[39;49m\u001b[43mscope\u001b[49m\u001b[43m)\u001b[49m\n\u001b[0;32m    407\u001b[0m \u001b[38;5;28mself\u001b[39m\u001b[38;5;241m.\u001b[39mtoken \u001b[38;5;241m=\u001b[39m \u001b[38;5;28mself\u001b[39m\u001b[38;5;241m.\u001b[39m_client\u001b[38;5;241m.\u001b[39mtoken\n\u001b[0;32m    408\u001b[0m log\u001b[38;5;241m.\u001b[39mdebug(\u001b[38;5;124m\"\u001b[39m\u001b[38;5;124mObtained token \u001b[39m\u001b[38;5;132;01m%s\u001b[39;00m\u001b[38;5;124m.\u001b[39m\u001b[38;5;124m\"\u001b[39m, \u001b[38;5;28mself\u001b[39m\u001b[38;5;241m.\u001b[39mtoken)\n",
      "File \u001b[1;32m~\\Anaconda3\\envs\\cmts_learn_olci\\lib\\site-packages\\oauthlib\\oauth2\\rfc6749\\clients\\base.py:426\u001b[0m, in \u001b[0;36mClient.parse_request_body_response\u001b[1;34m(self, body, scope, **kwargs)\u001b[0m\n\u001b[0;32m    378\u001b[0m \u001b[38;5;250m\u001b[39m\u001b[38;5;124;03m\"\"\"Parse the JSON response body.\u001b[39;00m\n\u001b[0;32m    379\u001b[0m \n\u001b[0;32m    380\u001b[0m \u001b[38;5;124;03mIf the access token request is valid and authorized, the\u001b[39;00m\n\u001b[1;32m   (...)\u001b[0m\n\u001b[0;32m    423\u001b[0m \u001b[38;5;124;03m.. _`Section 7.1`: https://tools.ietf.org/html/rfc6749#section-7.1\u001b[39;00m\n\u001b[0;32m    424\u001b[0m \u001b[38;5;124;03m\"\"\"\u001b[39;00m\n\u001b[0;32m    425\u001b[0m scope \u001b[38;5;241m=\u001b[39m \u001b[38;5;28mself\u001b[39m\u001b[38;5;241m.\u001b[39mscope \u001b[38;5;28;01mif\u001b[39;00m scope \u001b[38;5;129;01mis\u001b[39;00m \u001b[38;5;28;01mNone\u001b[39;00m \u001b[38;5;28;01melse\u001b[39;00m scope\n\u001b[1;32m--> 426\u001b[0m \u001b[38;5;28mself\u001b[39m\u001b[38;5;241m.\u001b[39mtoken \u001b[38;5;241m=\u001b[39m \u001b[43mparse_token_response\u001b[49m\u001b[43m(\u001b[49m\u001b[43mbody\u001b[49m\u001b[43m,\u001b[49m\u001b[43m \u001b[49m\u001b[43mscope\u001b[49m\u001b[38;5;241;43m=\u001b[39;49m\u001b[43mscope\u001b[49m\u001b[43m)\u001b[49m\n\u001b[0;32m    427\u001b[0m \u001b[38;5;28mself\u001b[39m\u001b[38;5;241m.\u001b[39mpopulate_token_attributes(\u001b[38;5;28mself\u001b[39m\u001b[38;5;241m.\u001b[39mtoken)\n\u001b[0;32m    428\u001b[0m \u001b[38;5;28;01mreturn\u001b[39;00m \u001b[38;5;28mself\u001b[39m\u001b[38;5;241m.\u001b[39mtoken\n",
      "File \u001b[1;32m~\\Anaconda3\\envs\\cmts_learn_olci\\lib\\site-packages\\oauthlib\\oauth2\\rfc6749\\parameters.py:444\u001b[0m, in \u001b[0;36mparse_token_response\u001b[1;34m(body, scope)\u001b[0m\n\u001b[0;32m    441\u001b[0m     params\u001b[38;5;241m.\u001b[39mpop(\u001b[38;5;124m'\u001b[39m\u001b[38;5;124mexpires_at\u001b[39m\u001b[38;5;124m'\u001b[39m)\n\u001b[0;32m    443\u001b[0m params \u001b[38;5;241m=\u001b[39m OAuth2Token(params, old_scope\u001b[38;5;241m=\u001b[39mscope)\n\u001b[1;32m--> 444\u001b[0m \u001b[43mvalidate_token_parameters\u001b[49m\u001b[43m(\u001b[49m\u001b[43mparams\u001b[49m\u001b[43m)\u001b[49m\n\u001b[0;32m    445\u001b[0m \u001b[38;5;28;01mreturn\u001b[39;00m params\n",
      "File \u001b[1;32m~\\Anaconda3\\envs\\cmts_learn_olci\\lib\\site-packages\\oauthlib\\oauth2\\rfc6749\\parameters.py:451\u001b[0m, in \u001b[0;36mvalidate_token_parameters\u001b[1;34m(params)\u001b[0m\n\u001b[0;32m    449\u001b[0m \u001b[38;5;250m\u001b[39m\u001b[38;5;124;03m\"\"\"Ensures token presence, token type, expiration and scope in params.\"\"\"\u001b[39;00m\n\u001b[0;32m    450\u001b[0m \u001b[38;5;28;01mif\u001b[39;00m \u001b[38;5;124m'\u001b[39m\u001b[38;5;124merror\u001b[39m\u001b[38;5;124m'\u001b[39m \u001b[38;5;129;01min\u001b[39;00m params:\n\u001b[1;32m--> 451\u001b[0m     \u001b[43mraise_from_error\u001b[49m\u001b[43m(\u001b[49m\u001b[43mparams\u001b[49m\u001b[38;5;241;43m.\u001b[39;49m\u001b[43mget\u001b[49m\u001b[43m(\u001b[49m\u001b[38;5;124;43m'\u001b[39;49m\u001b[38;5;124;43merror\u001b[39;49m\u001b[38;5;124;43m'\u001b[39;49m\u001b[43m)\u001b[49m\u001b[43m,\u001b[49m\u001b[43m \u001b[49m\u001b[43mparams\u001b[49m\u001b[43m)\u001b[49m\n\u001b[0;32m    453\u001b[0m \u001b[38;5;28;01mif\u001b[39;00m \u001b[38;5;124m'\u001b[39m\u001b[38;5;124maccess_token\u001b[39m\u001b[38;5;124m'\u001b[39m \u001b[38;5;129;01mnot\u001b[39;00m \u001b[38;5;129;01min\u001b[39;00m params:\n\u001b[0;32m    454\u001b[0m     \u001b[38;5;28;01mraise\u001b[39;00m MissingTokenError(description\u001b[38;5;241m=\u001b[39m\u001b[38;5;124m\"\u001b[39m\u001b[38;5;124mMissing access token parameter.\u001b[39m\u001b[38;5;124m\"\u001b[39m)\n",
      "File \u001b[1;32m~\\Anaconda3\\envs\\cmts_learn_olci\\lib\\site-packages\\oauthlib\\oauth2\\rfc6749\\errors.py:398\u001b[0m, in \u001b[0;36mraise_from_error\u001b[1;34m(error, params)\u001b[0m\n\u001b[0;32m    396\u001b[0m \u001b[38;5;28;01mfor\u001b[39;00m _, \u001b[38;5;28mcls\u001b[39m \u001b[38;5;129;01min\u001b[39;00m inspect\u001b[38;5;241m.\u001b[39mgetmembers(sys\u001b[38;5;241m.\u001b[39mmodules[\u001b[38;5;18m__name__\u001b[39m], inspect\u001b[38;5;241m.\u001b[39misclass):\n\u001b[0;32m    397\u001b[0m     \u001b[38;5;28;01mif\u001b[39;00m \u001b[38;5;28mcls\u001b[39m\u001b[38;5;241m.\u001b[39merror \u001b[38;5;241m==\u001b[39m error:\n\u001b[1;32m--> 398\u001b[0m         \u001b[38;5;28;01mraise\u001b[39;00m \u001b[38;5;28mcls\u001b[39m(\u001b[38;5;241m*\u001b[39m\u001b[38;5;241m*\u001b[39mkwargs)\n\u001b[0;32m    399\u001b[0m \u001b[38;5;28;01mraise\u001b[39;00m CustomOAuth2Error(error\u001b[38;5;241m=\u001b[39merror, \u001b[38;5;241m*\u001b[39m\u001b[38;5;241m*\u001b[39mkwargs)\n",
      "\u001b[1;31mInvalidClientError\u001b[0m: (invalid_client) Invalid client or Invalid client credentials"
     ]
    }
   ],
   "source": [
    "aoi_bbox = BBox(bbox=aoi_coords_wgs84, crs=CRS.WGS84)\n",
    "time_interval = \"2022-07-01\", \"2022-07-20\"\n",
    "\n",
    "search_iterator = catalog.search(\n",
    "    DataCollection.SENTINEL2_L2A,\n",
    "    bbox=aoi_bbox,\n",
    "    time=time_interval,\n",
    "    fields={\"include\": [\"id\", \"properties.datetime\"], \"exclude\": []},\n",
    ")\n",
    "\n",
    "results = list(search_iterator)\n",
    "print(\"Total number of results:\", len(results))\n",
    "\n",
    "results"
   ]
  },
  {
   "cell_type": "code",
   "execution_count": null,
   "id": "af96a4d1",
   "metadata": {},
   "outputs": [],
   "source": []
  }
 ],
 "metadata": {
  "kernelspec": {
   "display_name": "Python 3 (ipykernel)",
   "language": "python",
   "name": "python3"
  },
  "language_info": {
   "codemirror_mode": {
    "name": "ipython",
    "version": 3
   },
   "file_extension": ".py",
   "mimetype": "text/x-python",
   "name": "python",
   "nbconvert_exporter": "python",
   "pygments_lexer": "ipython3",
   "version": "3.9.7"
  }
 },
 "nbformat": 4,
 "nbformat_minor": 5
}
